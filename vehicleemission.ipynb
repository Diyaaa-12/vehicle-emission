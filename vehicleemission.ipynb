{
  "nbformat": 4,
  "nbformat_minor": 0,
  "metadata": {
    "colab": {
      "provenance": [],
      "authorship_tag": "ABX9TyO0qGxr7ZXFsMhzSLZZipkv",
      "include_colab_link": true
    },
    "kernelspec": {
      "name": "python3",
      "display_name": "Python 3"
    },
    "language_info": {
      "name": "python"
    }
  },
  "cells": [
    {
      "cell_type": "markdown",
      "metadata": {
        "id": "view-in-github",
        "colab_type": "text"
      },
      "source": [
        "<a href=\"https://colab.research.google.com/github/Diyaaa-12/vehicle-emission/blob/main/vehicleemission.ipynb\" target=\"_parent\"><img src=\"https://colab.research.google.com/assets/colab-badge.svg\" alt=\"Open In Colab\"/></a>"
      ]
    },
    {
      "cell_type": "code",
      "source": [
        "# Step 1: Import Libraries\n",
        "import pandas as pd\n",
        "from sklearn.model_selection import train_test_split\n",
        "from sklearn.preprocessing import LabelEncoder\n",
        "from sklearn.ensemble import RandomForestClassifier\n",
        "from sklearn.metrics import classification_report\n",
        "\n",
        "# Step 2: Load the Dataset\n",
        "df = pd.read_csv(\"vehicle_emissions.csv\")\n",
        "\n",
        "# Step 3: Encode Categorical Columns\n",
        "fuel_encoder = LabelEncoder()\n",
        "df['fuel_type_encoded'] = fuel_encoder.fit_transform(df['fuel_type'])\n",
        "\n",
        "category_encoder = LabelEncoder()\n",
        "df['emission_category_encoded'] = category_encoder.fit_transform(df['emission_category'])\n",
        "\n",
        "# Step 4: Prepare Features (X) and Target (y)\n",
        "X = df[['engine_size', 'fuel_type_encoded', 'co2_emissions']]\n",
        "y = df['emission_category_encoded']\n",
        "\n",
        "# Step 5: Split the Data\n",
        "X_train, X_test, y_train, y_test = train_test_split(X, y, test_size=0.2, random_state=42)\n",
        "\n",
        "# Step 6: Train the Model\n",
        "model = RandomForestClassifier(random_state=42)\n",
        "model.fit(X_train, y_train)\n",
        "\n",
        "# Step 7: Evaluate the Model\n",
        "y_pred = model.predict(X_test)\n",
        "print(\"\\n--- Model Evaluation on Test Data ---\\n\")\n",
        "print(classification_report(y_test, y_pred, target_names=category_encoder.classes_))\n",
        "\n",
        "# Step 8: Predict Emission Category for New Input\n",
        "print(\"\\n--- Predict Emission Category for a New Vehicle ---\")\n",
        "try:\n",
        "    engine_size_input = float(input(\"Enter engine size (e.g. 2.0): \"))\n",
        "    fuel_type_input = input(\"Enter fuel type (petrol, diesel, electric): \").lower()\n",
        "    co2_emissions_input = float(input(\"Enter CO2 emissions (e.g. 150): \"))\n",
        "\n",
        "    # Check and encode the fuel type\n",
        "    if fuel_type_input not in fuel_encoder.classes_:\n",
        "        print(\"\\n Invalid fuel type! Please use one of:\", list(fuel_encoder.classes_))\n",
        "    else:\n",
        "        fuel_type_encoded = fuel_encoder.transform([fuel_type_input])[0]\n",
        "        new_data = [[engine_size_input, fuel_type_encoded, co2_emissions_input]]\n",
        "\n",
        "        # Predict category\n",
        "        predicted_label = model.predict(new_data)[0]\n",
        "        predicted_category = category_encoder.inverse_transform([predicted_label])[0]\n",
        "\n",
        "        print(f\"\\n Predicted Emission Category: {predicted_category}\")\n",
        "\n",
        "except ValueError:\n",
        "    print(\"\\n Invalid input! Please enter numbers for engine size and CO2 emissions.\")\n"
      ],
      "metadata": {
        "colab": {
          "base_uri": "https://localhost:8080/"
        },
        "outputId": "447f9139-06b5-4ba2-8629-c9b2f95c4801",
        "id": "KQ4uhZMlxhrB"
      },
      "execution_count": 9,
      "outputs": [
        {
          "output_type": "stream",
          "name": "stdout",
          "text": [
            "\n",
            "--- Model Evaluation on Test Data ---\n",
            "\n",
            "              precision    recall  f1-score   support\n",
            "\n",
            "           A       0.40      0.40      0.40         5\n",
            "           B       0.25      0.33      0.29         6\n",
            "           C       0.57      0.44      0.50         9\n",
            "\n",
            "    accuracy                           0.40        20\n",
            "   macro avg       0.41      0.39      0.40        20\n",
            "weighted avg       0.43      0.40      0.41        20\n",
            "\n",
            "\n",
            "--- Predict Emission Category for a New Vehicle ---\n",
            "Enter engine size (e.g. 2.0): 1.5\n",
            "Enter fuel type (petrol, diesel, electric): diesel\n",
            "Enter CO2 emissions (e.g. 150): 605\n",
            "\n",
            " Predicted Emission Category: A\n"
          ]
        },
        {
          "output_type": "stream",
          "name": "stderr",
          "text": [
            "/usr/local/lib/python3.11/dist-packages/sklearn/utils/validation.py:2739: UserWarning: X does not have valid feature names, but RandomForestClassifier was fitted with feature names\n",
            "  warnings.warn(\n"
          ]
        }
      ]
    }
  ]
}